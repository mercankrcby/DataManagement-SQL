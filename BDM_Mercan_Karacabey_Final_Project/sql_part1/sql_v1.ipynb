{
 "cells": [
  {
   "cell_type": "markdown",
   "metadata": {
    "kernel": "SoS"
   },
   "source": [
    "## BIG DATA MANAGEMENT - FINAL PROJECT - PART/1\n",
    "BY MERCAN KARACABEY"
   ]
  },
  {
   "cell_type": "code",
   "execution_count": 2,
   "metadata": {
    "kernel": "Bash"
   },
   "outputs": [
    {
     "name": "stdout",
     "output_type": "stream",
     "text": [
      "Starting PostgreSQL 11 database server: main.\n"
     ]
    }
   ],
   "source": [
    "sudo service postgresql start"
   ]
  },
  {
   "cell_type": "code",
   "execution_count": 4,
   "metadata": {
    "kernel": "Bash",
    "scrolled": false
   },
   "outputs": [
    {
     "name": "stdout",
     "output_type": "stream",
     "text": [
      "                                        List of databases\n",
      "              Name              |  Owner   | Encoding | Collate |  Ctype  |   Access privileges   \n",
      "--------------------------------+----------+----------+---------+---------+-----------------------\n",
      " barcelona_immigrants_emigrants | postgres | UTF8     | C.UTF-8 | C.UTF-8 | \n",
      " imdb2                          | postgres | UTF8     | C.UTF-8 | C.UTF-8 | \n",
      " insurance_sample               | postgres | UTF8     | C.UTF-8 | C.UTF-8 | \n",
      " postgres                       | postgres | UTF8     | C.UTF-8 | C.UTF-8 | \n",
      " template0                      | postgres | UTF8     | C.UTF-8 | C.UTF-8 | =c/postgres          +\n",
      "                                |          |          |         |         | postgres=CTc/postgres\n",
      " template1                      | postgres | UTF8     | C.UTF-8 | C.UTF-8 | =c/postgres          +\n",
      "                                |          |          |         |         | postgres=CTc/postgres\n",
      "(6 rows)\n",
      "\n"
     ]
    }
   ],
   "source": [
    "psql -U postgres -c \"\\l\""
   ]
  },
  {
   "cell_type": "markdown",
   "metadata": {
    "kernel": "Bash"
   },
   "source": [
    "### Environment Variables Config"
   ]
  },
  {
   "cell_type": "code",
   "execution_count": 5,
   "metadata": {
    "kernel": "Bash"
   },
   "outputs": [],
   "source": [
    "datadir=~/data\n",
    "imdbdir=$datadir/imdb"
   ]
  },
  {
   "cell_type": "code",
   "execution_count": 6,
   "metadata": {
    "kernel": "Bash"
   },
   "outputs": [
    {
     "name": "stdout",
     "output_type": "stream",
     "text": [
      "total 32\n",
      "drwxr-xr-x 3 jovyan jovyan  4096 Dec 15 10:57 \u001b[0m\u001b[01;34mcomtrade_s1\u001b[0m\n",
      "drwxr-xr-x 2 jovyan jovyan 24576 Dec 15 10:57 \u001b[01;34mhe_sisli\u001b[0m\n",
      "drwxr-xr-x 4 jovyan jovyan  4096 Dec 15 10:57 \u001b[01;34mimdb\u001b[0m\n"
     ]
    }
   ],
   "source": [
    "ls -l $datadir"
   ]
  },
  {
   "cell_type": "code",
   "execution_count": 7,
   "metadata": {
    "kernel": "Bash"
   },
   "outputs": [],
   "source": [
    "mkdir -p $imdbdir/tsv2"
   ]
  },
  {
   "cell_type": "code",
   "execution_count": 8,
   "metadata": {
    "kernel": "Bash"
   },
   "outputs": [],
   "source": [
    "find $imdbdir/tsv -mindepth 1 | \\\n",
    "    parallel -k -j0 \"basenm=\\$(basename {});\n",
    "        if [ ! -e ${imdbdir}/tsv2/\\${basenm%.gz} ];\n",
    "        then\n",
    "            gunzip -c {} > \\\n",
    "            ${imdbdir}/tsv2/\\${basenm%.gz};\n",
    "        fi\n",
    "        \""
   ]
  },
  {
   "cell_type": "code",
   "execution_count": 9,
   "metadata": {
    "kernel": "Bash"
   },
   "outputs": [],
   "source": [
    "mkdir -p $imdbdir/tsv3"
   ]
  },
  {
   "cell_type": "code",
   "execution_count": 12,
   "metadata": {
    "kernel": "Bash"
   },
   "outputs": [],
   "source": [
    "mkdir -p $imdbdir/csv"
   ]
  },
  {
   "cell_type": "code",
   "execution_count": null,
   "metadata": {
    "kernel": "Bash"
   },
   "outputs": [],
   "source": [
    "### Create tablespace & database & tables"
   ]
  },
  {
   "cell_type": "code",
   "execution_count": 13,
   "metadata": {
    "kernel": "Bash"
   },
   "outputs": [
    {
     "name": "stdout",
     "output_type": "stream",
     "text": [
      "                                        List of databases\n",
      "              Name              |  Owner   | Encoding | Collate |  Ctype  |   Access privileges   \n",
      "--------------------------------+----------+----------+---------+---------+-----------------------\n",
      " barcelona_immigrants_emigrants | postgres | UTF8     | C.UTF-8 | C.UTF-8 | \n",
      " imdb2                          | postgres | UTF8     | C.UTF-8 | C.UTF-8 | \n",
      " insurance_sample               | postgres | UTF8     | C.UTF-8 | C.UTF-8 | \n",
      " postgres                       | postgres | UTF8     | C.UTF-8 | C.UTF-8 | \n",
      " template0                      | postgres | UTF8     | C.UTF-8 | C.UTF-8 | =c/postgres          +\n",
      "                                |          |          |         |         | postgres=CTc/postgres\n",
      " template1                      | postgres | UTF8     | C.UTF-8 | C.UTF-8 | =c/postgres          +\n",
      "                                |          |          |         |         | postgres=CTc/postgres\n",
      "(6 rows)\n",
      "\n"
     ]
    }
   ],
   "source": [
    "psql -U postgres -c \"\\l\""
   ]
  },
  {
   "cell_type": "code",
   "execution_count": 14,
   "metadata": {
    "kernel": "Bash"
   },
   "outputs": [],
   "source": [
    "sudo mkdir -p /pg1"
   ]
  },
  {
   "cell_type": "code",
   "execution_count": 15,
   "metadata": {
    "kernel": "Bash"
   },
   "outputs": [
    {
     "name": "stdout",
     "output_type": "stream",
     "text": [
      "root root\n"
     ]
    }
   ],
   "source": [
    "stat -c \"%U %G\" /pg1"
   ]
  },
  {
   "cell_type": "code",
   "execution_count": 16,
   "metadata": {
    "kernel": "Bash"
   },
   "outputs": [],
   "source": [
    "sudo chown -R postgres:postgres /pg1"
   ]
  },
  {
   "cell_type": "code",
   "execution_count": 17,
   "metadata": {
    "kernel": "Bash"
   },
   "outputs": [
    {
     "name": "stdout",
     "output_type": "stream",
     "text": [
      "postgres postgres\n"
     ]
    }
   ],
   "source": [
    "stat -c \"%U %G\" /pg1"
   ]
  },
  {
   "cell_type": "code",
   "execution_count": 19,
   "metadata": {
    "kernel": "Python3"
   },
   "outputs": [
    {
     "name": "stderr",
     "output_type": "stream",
     "text": [
      "/usr/local/lib/python3.6/dist-packages/psycopg2/__init__.py:144: UserWarning: The psycopg2 wheel package will be renamed from release 2.8; in order to keep installing from binary please use \"pip install psycopg2-binary\" instead. For details see: <http://initd.org/psycopg/docs/install.html#binary-install-from-pypi>.\n",
      "  \"\"\")\n"
     ]
    }
   ],
   "source": [
    "%load_ext sql"
   ]
  },
  {
   "cell_type": "code",
   "execution_count": 20,
   "metadata": {
    "kernel": "Python3"
   },
   "outputs": [
    {
     "data": {
      "text/plain": [
       "'Connected: postgres@postgres'"
      ]
     },
     "execution_count": 20,
     "metadata": {},
     "output_type": "execute_result"
    }
   ],
   "source": [
    "%sql postgres://postgres@localhost/postgres"
   ]
  },
  {
   "cell_type": "code",
   "execution_count": 21,
   "metadata": {
    "kernel": "Python3"
   },
   "outputs": [
    {
     "name": "stdout",
     "output_type": "stream",
     "text": [
      " * postgres://postgres@localhost/postgres\n",
      "Done.\n",
      "Done.\n"
     ]
    },
    {
     "data": {
      "text/plain": [
       "[]"
      ]
     },
     "execution_count": 21,
     "metadata": {},
     "output_type": "execute_result"
    }
   ],
   "source": [
    "%%sql\n",
    "-- create a new tablespace\n",
    "END;\n",
    "CREATE TABLESPACE pg1 LOCATION '/pg1';"
   ]
  },
  {
   "cell_type": "code",
   "execution_count": 22,
   "metadata": {
    "kernel": "Python3"
   },
   "outputs": [
    {
     "name": "stdout",
     "output_type": "stream",
     "text": [
      " * postgres://postgres@localhost/postgres\n",
      "Done.\n",
      "Done.\n"
     ]
    },
    {
     "data": {
      "text/plain": [
       "[]"
      ]
     },
     "execution_count": 22,
     "metadata": {},
     "output_type": "execute_result"
    }
   ],
   "source": [
    "%%sql\n",
    "-- create a new database imdb1 on pg1 tablespace\n",
    "END;\n",
    "CREATE DATABASE imdb1\n",
    "TABLESPACE = pg1;"
   ]
  },
  {
   "cell_type": "code",
   "execution_count": 23,
   "metadata": {
    "kernel": "Python3"
   },
   "outputs": [
    {
     "data": {
      "text/plain": [
       "'Connected: postgres@imdb1'"
      ]
     },
     "execution_count": 23,
     "metadata": {},
     "output_type": "execute_result"
    }
   ],
   "source": [
    "%sql postgres://postgres@localhost/imdb1"
   ]
  },
  {
   "cell_type": "code",
   "execution_count": 24,
   "metadata": {
    "kernel": "Python3"
   },
   "outputs": [
    {
     "data": {
      "text/plain": [
       "'Connected: postgres@imdb1'"
      ]
     },
     "execution_count": 24,
     "metadata": {},
     "output_type": "execute_result"
    }
   ],
   "source": [
    "%sql postgres://postgres@localhost/imdb1"
   ]
  },
  {
   "cell_type": "code",
   "execution_count": 25,
   "metadata": {
    "kernel": "Python3"
   },
   "outputs": [
    {
     "name": "stdout",
     "output_type": "stream",
     "text": [
      " * postgres://postgres@localhost/imdb1\n",
      "   postgres://postgres@localhost/postgres\n",
      "Done.\n"
     ]
    },
    {
     "data": {
      "text/plain": [
       "[]"
      ]
     },
     "execution_count": 25,
     "metadata": {},
     "output_type": "execute_result"
    }
   ],
   "source": [
    "%%sql\n",
    "-- create a new table\n",
    "CREATE TABLE title_ratings\n",
    "(\n",
    "  tconst text,\n",
    "  averageRating numeric,\n",
    "  numVotes integer\n",
    ");"
   ]
  },
  {
   "cell_type": "code",
   "execution_count": 27,
   "metadata": {
    "kernel": "Bash"
   },
   "outputs": [
    {
     "name": "stdout",
     "output_type": "stream",
     "text": [
      "COPY 767041\n"
     ]
    }
   ],
   "source": [
    "psql -U postgres -d imdb1 -c \"\\copy title_ratings from $imdbdir/tsv3/title.ratings2.tsv\""
   ]
  },
  {
   "cell_type": "code",
   "execution_count": 29,
   "metadata": {
    "kernel": "Bash"
   },
   "outputs": [
    {
     "name": "stdout",
     "output_type": "stream",
     "text": [
      "                        List of relations\n",
      " Schema |     Name      | Type  |  Owner   | Size  | Description \n",
      "--------+---------------+-------+----------+-------+-------------\n",
      " public | title_ratings | table | postgres | 38 MB | \n",
      "(1 row)\n",
      "\n"
     ]
    }
   ],
   "source": [
    "psql -U postgres -d imdb1 -c \"\\dt+\""
   ]
  },
  {
   "cell_type": "markdown",
   "metadata": {
    "kernel": "Bash"
   },
   "source": [
    "### SELECT QUERIES"
   ]
  },
  {
   "cell_type": "code",
   "execution_count": 30,
   "metadata": {
    "kernel": "Python3"
   },
   "outputs": [
    {
     "name": "stdout",
     "output_type": "stream",
     "text": [
      " * postgres://postgres@localhost/imdb1\n",
      "   postgres://postgres@localhost/postgres\n",
      "5 rows affected.\n"
     ]
    },
    {
     "data": {
      "text/html": [
       "<table>\n",
       "    <tr>\n",
       "        <th>tconst</th>\n",
       "        <th>averagerating</th>\n",
       "        <th>numvotes</th>\n",
       "    </tr>\n",
       "    <tr>\n",
       "        <td>tt0000001</td>\n",
       "        <td>5.8</td>\n",
       "        <td>1306</td>\n",
       "    </tr>\n",
       "    <tr>\n",
       "        <td>tt0000002</td>\n",
       "        <td>6.5</td>\n",
       "        <td>149</td>\n",
       "    </tr>\n",
       "    <tr>\n",
       "        <td>tt0000003</td>\n",
       "        <td>6.6</td>\n",
       "        <td>885</td>\n",
       "    </tr>\n",
       "    <tr>\n",
       "        <td>tt0000004</td>\n",
       "        <td>6.4</td>\n",
       "        <td>92</td>\n",
       "    </tr>\n",
       "    <tr>\n",
       "        <td>tt0000005</td>\n",
       "        <td>6.2</td>\n",
       "        <td>1565</td>\n",
       "    </tr>\n",
       "</table>"
      ],
      "text/plain": [
       "[('tt0000001', Decimal('5.8'), 1306),\n",
       " ('tt0000002', Decimal('6.5'), 149),\n",
       " ('tt0000003', Decimal('6.6'), 885),\n",
       " ('tt0000004', Decimal('6.4'), 92),\n",
       " ('tt0000005', Decimal('6.2'), 1565)]"
      ]
     },
     "execution_count": 30,
     "metadata": {},
     "output_type": "execute_result"
    }
   ],
   "source": [
    "%%sql\n",
    "SELECT *\n",
    "FROM title_ratings\n",
    "LIMIT 5;"
   ]
  },
  {
   "cell_type": "code",
   "execution_count": 31,
   "metadata": {
    "kernel": "Python3"
   },
   "outputs": [
    {
     "name": "stdout",
     "output_type": "stream",
     "text": [
      " * postgres://postgres@localhost/imdb1\n",
      "   postgres://postgres@localhost/postgres\n",
      "Done.\n"
     ]
    },
    {
     "data": {
      "text/plain": [
       "[]"
      ]
     },
     "execution_count": 31,
     "metadata": {},
     "output_type": "execute_result"
    }
   ],
   "source": [
    "%%sql\n",
    "ALTER TABLE title_ratings\n",
    "ADD CONSTRAINT title_ratings_pk \n",
    "PRIMARY KEY (tconst);"
   ]
  },
  {
   "cell_type": "code",
   "execution_count": 32,
   "metadata": {
    "kernel": "Python3"
   },
   "outputs": [
    {
     "name": "stdout",
     "output_type": "stream",
     "text": [
      " * postgres://postgres@localhost/imdb1\n",
      "   postgres://postgres@localhost/postgres\n",
      "(psycopg2.ProgrammingError) relation \"crew_molten\" does not exist\n",
      "LINE 1: SELECT * FROM crew_molten\n",
      "                      ^\n",
      " [SQL: 'SELECT * FROM crew_molten\\nLIMIT 5;'] (Background on this error at: http://sqlalche.me/e/f405)\n"
     ]
    }
   ],
   "source": [
    "%%sql\n",
    "SELECT * FROM crew_molten\n",
    "LIMIT 5;"
   ]
  },
  {
   "cell_type": "code",
   "execution_count": 36,
   "metadata": {
    "kernel": "Bash"
   },
   "outputs": [
    {
     "name": "stdout",
     "output_type": "stream",
     "text": [
      "You are now connected to database \"imdb2\" as user \"postgres\".\n"
     ]
    }
   ],
   "source": [
    "psql -U postgres -c \"\\c imdb2\""
   ]
  },
  {
   "cell_type": "code",
   "execution_count": 38,
   "metadata": {
    "kernel": "Bash"
   },
   "outputs": [
    {
     "name": "stdout",
     "output_type": "stream",
     "text": [
      "                             List of relations\n",
      " Schema |         Name          | Type  |  Owner   |  Size   | Description \n",
      "--------+-----------------------+-------+----------+---------+-------------\n",
      " public | crew_molten           | table | postgres | 679 MB  | \n",
      " public | genres_molten         | table | postgres | 334 MB  | \n",
      " public | name_basics           | table | postgres | 676 MB  | \n",
      " public | title_basics          | table | postgres | 516 MB  | \n",
      " public | title_crew            | table | postgres | 260 MB  | \n",
      " public | title_episode         | table | postgres | 167 MB  | \n",
      " public | title_principals_melt | table | postgres | 1262 MB | \n",
      " public | title_ratings         | table | postgres | 38 MB   | \n",
      "(8 rows)\n",
      "\n"
     ]
    }
   ],
   "source": [
    "psql -U postgres -d imdb2 -c \"\\dt+\""
   ]
  },
  {
   "cell_type": "code",
   "execution_count": 39,
   "metadata": {
    "kernel": "Python3"
   },
   "outputs": [
    {
     "name": "stdout",
     "output_type": "stream",
     "text": [
      "The sql extension is already loaded. To reload it, use:\n",
      "  %reload_ext sql\n"
     ]
    },
    {
     "data": {
      "text/plain": [
       "'Connected: postgres@imdb2'"
      ]
     },
     "execution_count": 39,
     "metadata": {},
     "output_type": "execute_result"
    }
   ],
   "source": [
    "%load_ext sql\n",
    "%sql postgres://postgres@localhost/imdb2"
   ]
  },
  {
   "cell_type": "code",
   "execution_count": 40,
   "metadata": {
    "kernel": "Python3",
    "scrolled": true
   },
   "outputs": [
    {
     "name": "stdout",
     "output_type": "stream",
     "text": [
      "   postgres://postgres@localhost/imdb1\n",
      " * postgres://postgres@localhost/imdb2\n",
      "   postgres://postgres@localhost/postgres\n",
      "5 rows affected.\n"
     ]
    },
    {
     "data": {
      "text/html": [
       "<table>\n",
       "    <tr>\n",
       "        <th>tconst</th>\n",
       "        <th>profession</th>\n",
       "        <th>nconst</th>\n",
       "    </tr>\n",
       "    <tr>\n",
       "        <td>tt0000001</td>\n",
       "        <td>director</td>\n",
       "        <td>nm0005690</td>\n",
       "    </tr>\n",
       "    <tr>\n",
       "        <td>tt0000001</td>\n",
       "        <td>writer</td>\n",
       "        <td>\\N</td>\n",
       "    </tr>\n",
       "    <tr>\n",
       "        <td>tt0000002</td>\n",
       "        <td>director</td>\n",
       "        <td>nm0721526</td>\n",
       "    </tr>\n",
       "    <tr>\n",
       "        <td>tt0000002</td>\n",
       "        <td>writer</td>\n",
       "        <td>\\N</td>\n",
       "    </tr>\n",
       "    <tr>\n",
       "        <td>tt0000003</td>\n",
       "        <td>director</td>\n",
       "        <td>nm0721526</td>\n",
       "    </tr>\n",
       "</table>"
      ],
      "text/plain": [
       "[('tt0000001', 'director', 'nm0005690'),\n",
       " ('tt0000001', 'writer', '\\\\N'),\n",
       " ('tt0000002', 'director', 'nm0721526'),\n",
       " ('tt0000002', 'writer', '\\\\N'),\n",
       " ('tt0000003', 'director', 'nm0721526')]"
      ]
     },
     "execution_count": 40,
     "metadata": {},
     "output_type": "execute_result"
    }
   ],
   "source": [
    "%%sql\n",
    "SELECT * FROM crew_molten\n",
    "LIMIT 5;"
   ]
  },
  {
   "cell_type": "markdown",
   "metadata": {
    "kernel": "Python3"
   },
   "source": [
    "### SELECT QUERIES WITH JOIN"
   ]
  },
  {
   "cell_type": "code",
   "execution_count": 41,
   "metadata": {
    "kernel": "Python3"
   },
   "outputs": [
    {
     "name": "stdout",
     "output_type": "stream",
     "text": [
      "   postgres://postgres@localhost/imdb1\n",
      " * postgres://postgres@localhost/imdb2\n",
      "   postgres://postgres@localhost/postgres\n",
      "20 rows affected.\n"
     ]
    },
    {
     "data": {
      "text/html": [
       "<table>\n",
       "    <tr>\n",
       "        <th>tconst</th>\n",
       "        <th>originaltitle</th>\n",
       "        <th>startyear</th>\n",
       "        <th>runtimeminutes</th>\n",
       "        <th>genres</th>\n",
       "        <th>principalcast</th>\n",
       "    </tr>\n",
       "    <tr>\n",
       "        <td>tt0099674</td>\n",
       "        <td>The Godfather: Part III</td>\n",
       "        <td>1990</td>\n",
       "        <td>162</td>\n",
       "        <td>Crime,Drama</td>\n",
       "        <td>nm0000199</td>\n",
       "    </tr>\n",
       "    <tr>\n",
       "        <td>tt0099674</td>\n",
       "        <td>The Godfather: Part III</td>\n",
       "        <td>1990</td>\n",
       "        <td>162</td>\n",
       "        <td>Crime,Drama</td>\n",
       "        <td>nm0000338</td>\n",
       "    </tr>\n",
       "    <tr>\n",
       "        <td>tt0099674</td>\n",
       "        <td>The Godfather: Part III</td>\n",
       "        <td>1990</td>\n",
       "        <td>162</td>\n",
       "        <td>Crime,Drama</td>\n",
       "        <td>nm0000412</td>\n",
       "    </tr>\n",
       "    <tr>\n",
       "        <td>tt0099674</td>\n",
       "        <td>The Godfather: Part III</td>\n",
       "        <td>1990</td>\n",
       "        <td>162</td>\n",
       "        <td>Crime,Drama</td>\n",
       "        <td>nm0000473</td>\n",
       "    </tr>\n",
       "    <tr>\n",
       "        <td>tt0099674</td>\n",
       "        <td>The Godfather: Part III</td>\n",
       "        <td>1990</td>\n",
       "        <td>162</td>\n",
       "        <td>Crime,Drama</td>\n",
       "        <td>nm0001735</td>\n",
       "    </tr>\n",
       "    <tr>\n",
       "        <td>tt0099674</td>\n",
       "        <td>The Godfather: Part III</td>\n",
       "        <td>1990</td>\n",
       "        <td>162</td>\n",
       "        <td>Crime,Drama</td>\n",
       "        <td>nm0178874</td>\n",
       "    </tr>\n",
       "    <tr>\n",
       "        <td>tt0099674</td>\n",
       "        <td>The Godfather: Part III</td>\n",
       "        <td>1990</td>\n",
       "        <td>162</td>\n",
       "        <td>Crime,Drama</td>\n",
       "        <td>nm0296636</td>\n",
       "    </tr>\n",
       "    <tr>\n",
       "        <td>tt0099674</td>\n",
       "        <td>The Godfather: Part III</td>\n",
       "        <td>1990</td>\n",
       "        <td>162</td>\n",
       "        <td>Crime,Drama</td>\n",
       "        <td>nm0539794</td>\n",
       "    </tr>\n",
       "    <tr>\n",
       "        <td>tt0099674</td>\n",
       "        <td>The Godfather: Part III</td>\n",
       "        <td>1990</td>\n",
       "        <td>162</td>\n",
       "        <td>Crime,Drama</td>\n",
       "        <td>nm0701374</td>\n",
       "    </tr>\n",
       "    <tr>\n",
       "        <td>tt0099674</td>\n",
       "        <td>The Godfather: Part III</td>\n",
       "        <td>1990</td>\n",
       "        <td>162</td>\n",
       "        <td>Crime,Drama</td>\n",
       "        <td>nm0932336</td>\n",
       "    </tr>\n",
       "    <tr>\n",
       "        <td>tt0071562</td>\n",
       "        <td>The Godfather: Part II</td>\n",
       "        <td>1974</td>\n",
       "        <td>202</td>\n",
       "        <td>Crime,Drama</td>\n",
       "        <td>nm0000065</td>\n",
       "    </tr>\n",
       "    <tr>\n",
       "        <td>tt0071562</td>\n",
       "        <td>The Godfather: Part II</td>\n",
       "        <td>1974</td>\n",
       "        <td>202</td>\n",
       "        <td>Crime,Drama</td>\n",
       "        <td>nm0000134</td>\n",
       "    </tr>\n",
       "    <tr>\n",
       "        <td>tt0071562</td>\n",
       "        <td>The Godfather: Part II</td>\n",
       "        <td>1974</td>\n",
       "        <td>202</td>\n",
       "        <td>Crime,Drama</td>\n",
       "        <td>nm0000199</td>\n",
       "    </tr>\n",
       "    <tr>\n",
       "        <td>tt0071562</td>\n",
       "        <td>The Godfather: Part II</td>\n",
       "        <td>1974</td>\n",
       "        <td>202</td>\n",
       "        <td>Crime,Drama</td>\n",
       "        <td>nm0000338</td>\n",
       "    </tr>\n",
       "    <tr>\n",
       "        <td>tt0071562</td>\n",
       "        <td>The Godfather: Part II</td>\n",
       "        <td>1974</td>\n",
       "        <td>202</td>\n",
       "        <td>Crime,Drama</td>\n",
       "        <td>nm0000380</td>\n",
       "    </tr>\n",
       "    <tr>\n",
       "        <td>tt0071562</td>\n",
       "        <td>The Godfather: Part II</td>\n",
       "        <td>1974</td>\n",
       "        <td>202</td>\n",
       "        <td>Crime,Drama</td>\n",
       "        <td>nm0000473</td>\n",
       "    </tr>\n",
       "    <tr>\n",
       "        <td>tt0071562</td>\n",
       "        <td>The Godfather: Part II</td>\n",
       "        <td>1974</td>\n",
       "        <td>202</td>\n",
       "        <td>Crime,Drama</td>\n",
       "        <td>nm0539794</td>\n",
       "    </tr>\n",
       "    <tr>\n",
       "        <td>tt0071562</td>\n",
       "        <td>The Godfather: Part II</td>\n",
       "        <td>1974</td>\n",
       "        <td>202</td>\n",
       "        <td>Crime,Drama</td>\n",
       "        <td>nm0548943</td>\n",
       "    </tr>\n",
       "    <tr>\n",
       "        <td>tt0071562</td>\n",
       "        <td>The Godfather: Part II</td>\n",
       "        <td>1974</td>\n",
       "        <td>202</td>\n",
       "        <td>Crime,Drama</td>\n",
       "        <td>nm0701374</td>\n",
       "    </tr>\n",
       "    <tr>\n",
       "        <td>tt0071562</td>\n",
       "        <td>The Godfather: Part II</td>\n",
       "        <td>1974</td>\n",
       "        <td>202</td>\n",
       "        <td>Crime,Drama</td>\n",
       "        <td>nm0932336</td>\n",
       "    </tr>\n",
       "</table>"
      ],
      "text/plain": [
       "[('tt0099674', 'The Godfather: Part III', 1990, 162, 'Crime,Drama', 'nm0000199'),\n",
       " ('tt0099674', 'The Godfather: Part III', 1990, 162, 'Crime,Drama', 'nm0000338'),\n",
       " ('tt0099674', 'The Godfather: Part III', 1990, 162, 'Crime,Drama', 'nm0000412'),\n",
       " ('tt0099674', 'The Godfather: Part III', 1990, 162, 'Crime,Drama', 'nm0000473'),\n",
       " ('tt0099674', 'The Godfather: Part III', 1990, 162, 'Crime,Drama', 'nm0001735'),\n",
       " ('tt0099674', 'The Godfather: Part III', 1990, 162, 'Crime,Drama', 'nm0178874'),\n",
       " ('tt0099674', 'The Godfather: Part III', 1990, 162, 'Crime,Drama', 'nm0296636'),\n",
       " ('tt0099674', 'The Godfather: Part III', 1990, 162, 'Crime,Drama', 'nm0539794'),\n",
       " ('tt0099674', 'The Godfather: Part III', 1990, 162, 'Crime,Drama', 'nm0701374'),\n",
       " ('tt0099674', 'The Godfather: Part III', 1990, 162, 'Crime,Drama', 'nm0932336'),\n",
       " ('tt0071562', 'The Godfather: Part II', 1974, 202, 'Crime,Drama', 'nm0000065'),\n",
       " ('tt0071562', 'The Godfather: Part II', 1974, 202, 'Crime,Drama', 'nm0000134'),\n",
       " ('tt0071562', 'The Godfather: Part II', 1974, 202, 'Crime,Drama', 'nm0000199'),\n",
       " ('tt0071562', 'The Godfather: Part II', 1974, 202, 'Crime,Drama', 'nm0000338'),\n",
       " ('tt0071562', 'The Godfather: Part II', 1974, 202, 'Crime,Drama', 'nm0000380'),\n",
       " ('tt0071562', 'The Godfather: Part II', 1974, 202, 'Crime,Drama', 'nm0000473'),\n",
       " ('tt0071562', 'The Godfather: Part II', 1974, 202, 'Crime,Drama', 'nm0539794'),\n",
       " ('tt0071562', 'The Godfather: Part II', 1974, 202, 'Crime,Drama', 'nm0548943'),\n",
       " ('tt0071562', 'The Godfather: Part II', 1974, 202, 'Crime,Drama', 'nm0701374'),\n",
       " ('tt0071562', 'The Godfather: Part II', 1974, 202, 'Crime,Drama', 'nm0932336')]"
      ]
     },
     "execution_count": 41,
     "metadata": {},
     "output_type": "execute_result"
    }
   ],
   "source": [
    "%%sql\n",
    "\n",
    "SELECT tb.tconst, tb.originaltitle, tb.startyear,\n",
    "    tb.runtimeminutes, tb.genres, tp.principalcast\n",
    "    FROM title_basics tb\n",
    "    LEFT JOIN title_principals_melt tp ON tb.tconst=tp.tconst\n",
    "  WHERE tb.originaltitle ~ 'Godfather.*Part'\n",
    "\tAND tb.genres ~ '(?i)drama'\n",
    "\tAND NOT tb.genres ~ '(?i)comedy'\n",
    "\tAND tb.startyear <= 1990\n",
    "  ORDER BY tb.runtimeminutes;"
   ]
  },
  {
   "cell_type": "code",
   "execution_count": 42,
   "metadata": {
    "kernel": "Python3"
   },
   "outputs": [
    {
     "name": "stdout",
     "output_type": "stream",
     "text": [
      "   postgres://postgres@localhost/imdb1\n",
      " * postgres://postgres@localhost/imdb2\n",
      "   postgres://postgres@localhost/postgres\n",
      "20 rows affected.\n"
     ]
    },
    {
     "data": {
      "text/html": [
       "<table>\n",
       "    <tr>\n",
       "        <th>tconst</th>\n",
       "        <th>originaltitle</th>\n",
       "        <th>startyear</th>\n",
       "        <th>runtimeminutes</th>\n",
       "        <th>genres</th>\n",
       "        <th>principalcast</th>\n",
       "        <th>directors</th>\n",
       "        <th>writers</th>\n",
       "    </tr>\n",
       "    <tr>\n",
       "        <td>tt0099674</td>\n",
       "        <td>The Godfather: Part III</td>\n",
       "        <td>1990</td>\n",
       "        <td>162</td>\n",
       "        <td>Crime,Drama</td>\n",
       "        <td>nm0000199</td>\n",
       "        <td>nm0000338</td>\n",
       "        <td>nm0701374,nm0000338</td>\n",
       "    </tr>\n",
       "    <tr>\n",
       "        <td>tt0099674</td>\n",
       "        <td>The Godfather: Part III</td>\n",
       "        <td>1990</td>\n",
       "        <td>162</td>\n",
       "        <td>Crime,Drama</td>\n",
       "        <td>nm0000338</td>\n",
       "        <td>nm0000338</td>\n",
       "        <td>nm0701374,nm0000338</td>\n",
       "    </tr>\n",
       "    <tr>\n",
       "        <td>tt0099674</td>\n",
       "        <td>The Godfather: Part III</td>\n",
       "        <td>1990</td>\n",
       "        <td>162</td>\n",
       "        <td>Crime,Drama</td>\n",
       "        <td>nm0000412</td>\n",
       "        <td>nm0000338</td>\n",
       "        <td>nm0701374,nm0000338</td>\n",
       "    </tr>\n",
       "    <tr>\n",
       "        <td>tt0099674</td>\n",
       "        <td>The Godfather: Part III</td>\n",
       "        <td>1990</td>\n",
       "        <td>162</td>\n",
       "        <td>Crime,Drama</td>\n",
       "        <td>nm0000473</td>\n",
       "        <td>nm0000338</td>\n",
       "        <td>nm0701374,nm0000338</td>\n",
       "    </tr>\n",
       "    <tr>\n",
       "        <td>tt0099674</td>\n",
       "        <td>The Godfather: Part III</td>\n",
       "        <td>1990</td>\n",
       "        <td>162</td>\n",
       "        <td>Crime,Drama</td>\n",
       "        <td>nm0001735</td>\n",
       "        <td>nm0000338</td>\n",
       "        <td>nm0701374,nm0000338</td>\n",
       "    </tr>\n",
       "    <tr>\n",
       "        <td>tt0099674</td>\n",
       "        <td>The Godfather: Part III</td>\n",
       "        <td>1990</td>\n",
       "        <td>162</td>\n",
       "        <td>Crime,Drama</td>\n",
       "        <td>nm0178874</td>\n",
       "        <td>nm0000338</td>\n",
       "        <td>nm0701374,nm0000338</td>\n",
       "    </tr>\n",
       "    <tr>\n",
       "        <td>tt0099674</td>\n",
       "        <td>The Godfather: Part III</td>\n",
       "        <td>1990</td>\n",
       "        <td>162</td>\n",
       "        <td>Crime,Drama</td>\n",
       "        <td>nm0296636</td>\n",
       "        <td>nm0000338</td>\n",
       "        <td>nm0701374,nm0000338</td>\n",
       "    </tr>\n",
       "    <tr>\n",
       "        <td>tt0099674</td>\n",
       "        <td>The Godfather: Part III</td>\n",
       "        <td>1990</td>\n",
       "        <td>162</td>\n",
       "        <td>Crime,Drama</td>\n",
       "        <td>nm0539794</td>\n",
       "        <td>nm0000338</td>\n",
       "        <td>nm0701374,nm0000338</td>\n",
       "    </tr>\n",
       "    <tr>\n",
       "        <td>tt0099674</td>\n",
       "        <td>The Godfather: Part III</td>\n",
       "        <td>1990</td>\n",
       "        <td>162</td>\n",
       "        <td>Crime,Drama</td>\n",
       "        <td>nm0701374</td>\n",
       "        <td>nm0000338</td>\n",
       "        <td>nm0701374,nm0000338</td>\n",
       "    </tr>\n",
       "    <tr>\n",
       "        <td>tt0099674</td>\n",
       "        <td>The Godfather: Part III</td>\n",
       "        <td>1990</td>\n",
       "        <td>162</td>\n",
       "        <td>Crime,Drama</td>\n",
       "        <td>nm0932336</td>\n",
       "        <td>nm0000338</td>\n",
       "        <td>nm0701374,nm0000338</td>\n",
       "    </tr>\n",
       "    <tr>\n",
       "        <td>tt0071562</td>\n",
       "        <td>The Godfather: Part II</td>\n",
       "        <td>1974</td>\n",
       "        <td>202</td>\n",
       "        <td>Crime,Drama</td>\n",
       "        <td>nm0000065</td>\n",
       "        <td>nm0000338</td>\n",
       "        <td>nm0000338,nm0701374</td>\n",
       "    </tr>\n",
       "    <tr>\n",
       "        <td>tt0071562</td>\n",
       "        <td>The Godfather: Part II</td>\n",
       "        <td>1974</td>\n",
       "        <td>202</td>\n",
       "        <td>Crime,Drama</td>\n",
       "        <td>nm0000134</td>\n",
       "        <td>nm0000338</td>\n",
       "        <td>nm0000338,nm0701374</td>\n",
       "    </tr>\n",
       "    <tr>\n",
       "        <td>tt0071562</td>\n",
       "        <td>The Godfather: Part II</td>\n",
       "        <td>1974</td>\n",
       "        <td>202</td>\n",
       "        <td>Crime,Drama</td>\n",
       "        <td>nm0000199</td>\n",
       "        <td>nm0000338</td>\n",
       "        <td>nm0000338,nm0701374</td>\n",
       "    </tr>\n",
       "    <tr>\n",
       "        <td>tt0071562</td>\n",
       "        <td>The Godfather: Part II</td>\n",
       "        <td>1974</td>\n",
       "        <td>202</td>\n",
       "        <td>Crime,Drama</td>\n",
       "        <td>nm0000338</td>\n",
       "        <td>nm0000338</td>\n",
       "        <td>nm0000338,nm0701374</td>\n",
       "    </tr>\n",
       "    <tr>\n",
       "        <td>tt0071562</td>\n",
       "        <td>The Godfather: Part II</td>\n",
       "        <td>1974</td>\n",
       "        <td>202</td>\n",
       "        <td>Crime,Drama</td>\n",
       "        <td>nm0000380</td>\n",
       "        <td>nm0000338</td>\n",
       "        <td>nm0000338,nm0701374</td>\n",
       "    </tr>\n",
       "    <tr>\n",
       "        <td>tt0071562</td>\n",
       "        <td>The Godfather: Part II</td>\n",
       "        <td>1974</td>\n",
       "        <td>202</td>\n",
       "        <td>Crime,Drama</td>\n",
       "        <td>nm0000473</td>\n",
       "        <td>nm0000338</td>\n",
       "        <td>nm0000338,nm0701374</td>\n",
       "    </tr>\n",
       "    <tr>\n",
       "        <td>tt0071562</td>\n",
       "        <td>The Godfather: Part II</td>\n",
       "        <td>1974</td>\n",
       "        <td>202</td>\n",
       "        <td>Crime,Drama</td>\n",
       "        <td>nm0539794</td>\n",
       "        <td>nm0000338</td>\n",
       "        <td>nm0000338,nm0701374</td>\n",
       "    </tr>\n",
       "    <tr>\n",
       "        <td>tt0071562</td>\n",
       "        <td>The Godfather: Part II</td>\n",
       "        <td>1974</td>\n",
       "        <td>202</td>\n",
       "        <td>Crime,Drama</td>\n",
       "        <td>nm0548943</td>\n",
       "        <td>nm0000338</td>\n",
       "        <td>nm0000338,nm0701374</td>\n",
       "    </tr>\n",
       "    <tr>\n",
       "        <td>tt0071562</td>\n",
       "        <td>The Godfather: Part II</td>\n",
       "        <td>1974</td>\n",
       "        <td>202</td>\n",
       "        <td>Crime,Drama</td>\n",
       "        <td>nm0701374</td>\n",
       "        <td>nm0000338</td>\n",
       "        <td>nm0000338,nm0701374</td>\n",
       "    </tr>\n",
       "    <tr>\n",
       "        <td>tt0071562</td>\n",
       "        <td>The Godfather: Part II</td>\n",
       "        <td>1974</td>\n",
       "        <td>202</td>\n",
       "        <td>Crime,Drama</td>\n",
       "        <td>nm0932336</td>\n",
       "        <td>nm0000338</td>\n",
       "        <td>nm0000338,nm0701374</td>\n",
       "    </tr>\n",
       "</table>"
      ],
      "text/plain": [
       "[('tt0099674', 'The Godfather: Part III', 1990, 162, 'Crime,Drama', 'nm0000199', 'nm0000338', 'nm0701374,nm0000338'),\n",
       " ('tt0099674', 'The Godfather: Part III', 1990, 162, 'Crime,Drama', 'nm0000338', 'nm0000338', 'nm0701374,nm0000338'),\n",
       " ('tt0099674', 'The Godfather: Part III', 1990, 162, 'Crime,Drama', 'nm0000412', 'nm0000338', 'nm0701374,nm0000338'),\n",
       " ('tt0099674', 'The Godfather: Part III', 1990, 162, 'Crime,Drama', 'nm0000473', 'nm0000338', 'nm0701374,nm0000338'),\n",
       " ('tt0099674', 'The Godfather: Part III', 1990, 162, 'Crime,Drama', 'nm0001735', 'nm0000338', 'nm0701374,nm0000338'),\n",
       " ('tt0099674', 'The Godfather: Part III', 1990, 162, 'Crime,Drama', 'nm0178874', 'nm0000338', 'nm0701374,nm0000338'),\n",
       " ('tt0099674', 'The Godfather: Part III', 1990, 162, 'Crime,Drama', 'nm0296636', 'nm0000338', 'nm0701374,nm0000338'),\n",
       " ('tt0099674', 'The Godfather: Part III', 1990, 162, 'Crime,Drama', 'nm0539794', 'nm0000338', 'nm0701374,nm0000338'),\n",
       " ('tt0099674', 'The Godfather: Part III', 1990, 162, 'Crime,Drama', 'nm0701374', 'nm0000338', 'nm0701374,nm0000338'),\n",
       " ('tt0099674', 'The Godfather: Part III', 1990, 162, 'Crime,Drama', 'nm0932336', 'nm0000338', 'nm0701374,nm0000338'),\n",
       " ('tt0071562', 'The Godfather: Part II', 1974, 202, 'Crime,Drama', 'nm0000065', 'nm0000338', 'nm0000338,nm0701374'),\n",
       " ('tt0071562', 'The Godfather: Part II', 1974, 202, 'Crime,Drama', 'nm0000134', 'nm0000338', 'nm0000338,nm0701374'),\n",
       " ('tt0071562', 'The Godfather: Part II', 1974, 202, 'Crime,Drama', 'nm0000199', 'nm0000338', 'nm0000338,nm0701374'),\n",
       " ('tt0071562', 'The Godfather: Part II', 1974, 202, 'Crime,Drama', 'nm0000338', 'nm0000338', 'nm0000338,nm0701374'),\n",
       " ('tt0071562', 'The Godfather: Part II', 1974, 202, 'Crime,Drama', 'nm0000380', 'nm0000338', 'nm0000338,nm0701374'),\n",
       " ('tt0071562', 'The Godfather: Part II', 1974, 202, 'Crime,Drama', 'nm0000473', 'nm0000338', 'nm0000338,nm0701374'),\n",
       " ('tt0071562', 'The Godfather: Part II', 1974, 202, 'Crime,Drama', 'nm0539794', 'nm0000338', 'nm0000338,nm0701374'),\n",
       " ('tt0071562', 'The Godfather: Part II', 1974, 202, 'Crime,Drama', 'nm0548943', 'nm0000338', 'nm0000338,nm0701374'),\n",
       " ('tt0071562', 'The Godfather: Part II', 1974, 202, 'Crime,Drama', 'nm0701374', 'nm0000338', 'nm0000338,nm0701374'),\n",
       " ('tt0071562', 'The Godfather: Part II', 1974, 202, 'Crime,Drama', 'nm0932336', 'nm0000338', 'nm0000338,nm0701374')]"
      ]
     },
     "execution_count": 42,
     "metadata": {},
     "output_type": "execute_result"
    }
   ],
   "source": [
    "%%sql\n",
    "\n",
    "SELECT tb.tconst, tb.originaltitle, tb.startyear,\n",
    "    tb.runtimeminutes, tb.genres, tp.principalcast,tc.directors,tc.writers\n",
    "    FROM title_basics tb\n",
    "    LEFT JOIN title_principals_melt tp ON tb.tconst=tp.tconst\n",
    "    INNER JOIN title_crew tc ON tb.tconst=tc.tconst\n",
    "  WHERE tb.originaltitle ~ 'Godfather.*Part'\n",
    "\tAND tb.genres ~ '(?i)drama'\n",
    "\tAND NOT tb.genres ~ '(?i)comedy'\n",
    "\tAND tb.startyear <= 1990\n",
    "  ORDER BY tb.runtimeminutes;"
   ]
  },
  {
   "cell_type": "code",
   "execution_count": 3,
   "metadata": {
    "kernel": "Python3"
   },
   "outputs": [
    {
     "ename": "java.lang.RuntimeException",
     "evalue": " No datasource",
     "output_type": "error",
     "traceback": [
      "\u001b[1;31mjava.lang.RuntimeException: No datasource\u001b[0;0m"
     ]
    },
    {
     "ename": "java.lang.RuntimeException",
     "evalue": " No datasource",
     "output_type": "error",
     "traceback": [
      "\u001b[1;31mjava.lang.RuntimeException: No datasource\u001b[0;0m"
     ]
    }
   ],
   "source": [
    "%%sql\n",
    "\n",
    "SELECT subq1.*,tp.principalcast,tc.directors, \n",
    "    FROM (SELECT * FROM title_basics \n",
    "  WHERE \n",
    "    tb.genres ~ '(?i)crime'\n",
    "\tAND tb.startyear <= 1950\n",
    "  ORDER BY tb.runtimeminutes) subq1\n",
    " \n",
    "LEFT JOIN title_principals_melt tp ON subq1.tconst=tp.tconst\n",
    "INNER JOIN title_crew tc ON subq1.tconst=tc.tconst\n",
    "LIMIT 20;"
   ]
  },
  {
   "cell_type": "code",
   "execution_count": null,
   "metadata": {
    "kernel": "Python3"
   },
   "outputs": [],
   "source": []
  }
 ],
 "metadata": {
  "kernelspec": {
   "display_name": "SoS",
   "language": "sos",
   "name": "sos"
  },
  "language_info": {
   "codemirror_mode": "sos",
   "file_extension": ".sos",
   "mimetype": "text/x-sos",
   "name": "sos",
   "nbconvert_exporter": "sos_notebook.converter.SoS_Exporter",
   "pygments_lexer": "sos"
  },
  "sos": {
   "kernels": [
    [
     "Bash",
     "bash",
     "Bash",
     "#E6EEFF"
    ],
    [
     "Python3",
     "python3",
     "Python3",
     "#FFD91A"
    ]
   ],
   "panel": {
    "displayed": true,
    "height": 0,
    "style": "side"
   },
   "version": "0.17.2"
  },
  "toc": {
   "base_numbering": 1,
   "nav_menu": {},
   "number_sections": true,
   "sideBar": true,
   "skip_h1_title": false,
   "title_cell": "Table of Contents",
   "title_sidebar": "Contents",
   "toc_cell": false,
   "toc_position": {},
   "toc_section_display": true,
   "toc_window_display": false
  }
 },
 "nbformat": 4,
 "nbformat_minor": 2
}
