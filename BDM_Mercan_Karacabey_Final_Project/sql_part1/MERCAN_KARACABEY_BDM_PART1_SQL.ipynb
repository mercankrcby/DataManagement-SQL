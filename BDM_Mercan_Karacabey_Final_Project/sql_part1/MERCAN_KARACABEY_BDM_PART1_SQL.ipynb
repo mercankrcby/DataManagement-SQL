{
 "cells": [
  {
   "cell_type": "markdown",
   "metadata": {},
   "source": [
    "## BIG DATA MANAGEMENT - FINAL PROJECT PART1 -- SQL STATEMENTS\n",
    "BY MERCAN KARACABEY"
   ]
  },
  {
   "cell_type": "code",
   "execution_count": 2,
   "metadata": {},
   "outputs": [],
   "source": [
    "import psycopg2"
   ]
  },
  {
   "cell_type": "code",
   "execution_count": 62,
   "metadata": {},
   "outputs": [],
   "source": [
    "## I used localdb - i created tables on localdb and connect there. "
   ]
  },
  {
   "cell_type": "code",
   "execution_count": 59,
   "metadata": {},
   "outputs": [
    {
     "name": "stdout",
     "output_type": "stream",
     "text": [
      "Opened database successfully\n"
     ]
    }
   ],
   "source": [
    "conn = psycopg2.connect(database = \"postgres\", user = \"postgres\", password = \"mk1234\", host = \"127.0.0.1\", port = \"5432\")\n",
    "print(\"Opened database successfully\")"
   ]
  },
  {
   "cell_type": "markdown",
   "metadata": {},
   "source": [
    "### Tables \n",
    "Using Barcelona dataset - Immigrants/Emigrants Analysis according to age, nationality, gender. And frequency of baby names & names."
   ]
  },
  {
   "cell_type": "code",
   "execution_count": 10,
   "metadata": {},
   "outputs": [
    {
     "name": "stdout",
     "output_type": "stream",
     "text": [
      "(2017, 1, 'Ciutat Vella', 1, 'el Raval', '0-4', 154, 108)\n",
      "(2017, 1, 'Ciutat Vella', 2, 'el Barri Gòtic', '0-4', 58, 33)\n",
      "(2017, 1, 'Ciutat Vella', 3, 'la Barceloneta', '0-4', 38, 37)\n",
      "(2017, 1, 'Ciutat Vella', 4, 'Sant Pere, Santa Caterina i la Ribera', '0-4', 56, 55)\n",
      "(2017, 2, 'Eixample', 5, 'el Fort Pienc', '0-4', 79, 60)\n",
      "(2017, 2, 'Eixample', 6, 'la Sagrada Família', '0-4', 111, 95)\n",
      "(2017, 2, 'Eixample', 7, \"la Dreta de l'Eixample\", '0-4', 121, 78)\n",
      "(2017, 2, 'Eixample', 8, \"l'Antiga Esquerra de l'Eixample\", '0-4', 97, 63)\n",
      "(2017, 2, 'Eixample', 9, \"la Nova Esquerra de l'Eixample\", '0-4', 123, 130)\n",
      "(2017, 2, 'Eixample', 10, 'Sant Antoni', '0-4', 57, 80)\n",
      "(2017, 3, 'Sants-Montjuïc', 11, 'el Poble Sec', '0-4', 80, 99)\n",
      "(2017, 3, 'Sants-Montjuïc', 12, 'la Marina del Prat Vermell', '0-4', 1, 2)\n",
      "(2017, 3, 'Sants-Montjuïc', 13, 'la Marina de Port', '0-4', 71, 59)\n",
      "(2017, 3, 'Sants-Montjuïc', 14, 'la Font de la Guatlla', '0-4', 14, 15)\n",
      "(2017, 3, 'Sants-Montjuïc', 15, 'Hostafrancs', '0-4', 31, 37)\n",
      "(2017, 3, 'Sants-Montjuïc', 16, 'la Bordeta', '0-4', 33, 39)\n",
      "(2017, 3, 'Sants-Montjuïc', 17, 'Sants - Badal', '0-4', 49, 57)\n",
      "(2017, 3, 'Sants-Montjuïc', 18, 'Sants', '0-4', 106, 83)\n",
      "(2017, 4, 'Les Corts', 19, 'les Corts', '0-4', 103, 73)\n",
      "(2017, 4, 'Les Corts', 20, 'la Maternitat i Sant Ramon', '0-4', 81, 55)\n",
      "Operation done successfully\n"
     ]
    }
   ],
   "source": [
    "# byage\n",
    "cur = conn.cursor()\n",
    "\n",
    "cur.execute(\"SELECT *  from barcelone_immigrants_byage limit 20\")\n",
    "rows = cur.fetchall()\n",
    "for row in rows:\n",
    "   print(row)\n",
    "\n",
    "print (\"Operation done successfully\");\n"
   ]
  },
  {
   "cell_type": "code",
   "execution_count": 11,
   "metadata": {},
   "outputs": [
    {
     "name": "stdout",
     "output_type": "stream",
     "text": [
      "(2017, '1', 'Ciutat Vella', '1', 'el Raval', 'Spain', 1109)\n",
      "(2017, '1', 'Ciutat Vella', '2', 'el Barri Gòtic', 'Spain', 482)\n",
      "(2017, '1', 'Ciutat Vella', '3', 'la Barceloneta', 'Spain', 414)\n",
      "(2017, '1', 'Ciutat Vella', '4', 'Sant Pere, Santa Caterina i la Ribera', 'Spain', 537)\n",
      "(2017, '2', 'Eixample', '5', 'el Fort Pienc', 'Spain', 663)\n",
      "(2017, '2', 'Eixample', '6', 'la Sagrada Família', 'Spain', 1181)\n",
      "(2017, '2', 'Eixample', '7', \"la Dreta de l'Eixample\", 'Spain', 1063)\n",
      "(2017, '2', 'Eixample', '8', \"l'Antiga Esquerra de l'Eixample\", 'Spain', 1177)\n",
      "(2017, '2', 'Eixample', '9', \"la Nova Esquerra de l'Eixample\", 'Spain', 1593)\n",
      "(2017, '2', 'Eixample', '10', 'Sant Antoni', 'Spain', 883)\n",
      "(2017, '3', 'Sants-Montjuïc', '11', 'el Poble Sec', 'Spain', 826)\n",
      "(2017, '3', 'Sants-Montjuïc', '12', 'la Marina del Prat Vermell', 'Spain', 23)\n",
      "(2017, '3', 'Sants-Montjuïc', '13', 'la Marina de Port', 'Spain', 574)\n",
      "(2017, '3', 'Sants-Montjuïc', '14', 'la Font de la Guatlla', 'Spain', 264)\n",
      "(2017, '3', 'Sants-Montjuïc', '15', 'Hostafrancs', 'Spain', 410)\n",
      "(2017, '3', 'Sants-Montjuïc', '16', 'la Bordeta', 'Spain', 434)\n",
      "(2017, '3', 'Sants-Montjuïc', '17', 'Sants - Badal', 'Spain', 605)\n",
      "(2017, '3', 'Sants-Montjuïc', '18', 'Sants', 'Spain', 1083)\n",
      "(2017, '4', 'Les Corts', '19', 'les Corts', 'Spain', 1027)\n",
      "(2017, '4', 'Les Corts', '20', 'la Maternitat i Sant Ramon', 'Spain', 630)\n",
      "Operation done successfully\n"
     ]
    }
   ],
   "source": [
    "#bynationality\n",
    "cur = conn.cursor()\n",
    "\n",
    "cur.execute(\"SELECT *  from barcelona_immigrants_bynationality limit 20\")\n",
    "rows = cur.fetchall()\n",
    "for row in rows:\n",
    "   print(row)\n",
    "\n",
    "print (\"Operation done successfully\");"
   ]
  },
  {
   "cell_type": "code",
   "execution_count": 15,
   "metadata": {},
   "outputs": [
    {
     "name": "stdout",
     "output_type": "stream",
     "text": [
      "(2017, '1', 'Ciutat Vella', '1', 'el Raval', 'Male', 3063, 1195)\n",
      "(2017, '1', 'Ciutat Vella', '2', 'el Barri Gòtic', 'Male', 1499, 427)\n",
      "(2017, '1', 'Ciutat Vella', '3', 'la Barceloneta', 'Male', 910, 361)\n",
      "(2017, '1', 'Ciutat Vella', '4', 'Sant Pere, Santa Caterina i la Ribera', 'Male', 1438, 502)\n",
      "(2017, '2', 'Eixample', '5', 'el Fort Pienc', 'Male', 1082, 495)\n",
      "(2017, '2', 'Eixample', '6', 'la Sagrada Família', 'Male', 1693, 796)\n",
      "(2017, '2', 'Eixample', '7', \"la Dreta de l'Eixample\", 'Male', 1543, 666)\n",
      "(2017, '2', 'Eixample', '8', \"l'Antiga Esquerra de l'Eixample\", 'Male', 1693, 702)\n",
      "(2017, '2', 'Eixample', '9', \"la Nova Esquerra de l'Eixample\", 'Male', 1927, 925)\n",
      "(2017, '2', 'Eixample', '10', 'Sant Antoni', 'Male', 1253, 632)\n",
      "(2017, '3', 'Sants-Montjuïc', '11', 'el Poble Sec', 'Male', 1595, 887)\n",
      "(2017, '3', 'Sants-Montjuïc', '12', 'la Marina del Prat Vermell', 'Male', 17, 22)\n",
      "(2017, '3', 'Sants-Montjuïc', '13', 'la Marina de Port', 'Male', 724, 516)\n",
      "(2017, '3', 'Sants-Montjuïc', '14', 'la Font de la Guatlla', 'Male', 351, 193)\n",
      "(2017, '3', 'Sants-Montjuïc', '15', 'Hostafrancs', 'Male', 584, 319)\n",
      "(2017, '3', 'Sants-Montjuïc', '16', 'la Bordeta', 'Male', 471, 329)\n",
      "(2017, '3', 'Sants-Montjuïc', '17', 'Sants - Badal', 'Male', 703, 475)\n",
      "(2017, '3', 'Sants-Montjuïc', '18', 'Sants', 'Male', 1407, 789)\n",
      "(2017, '4', 'Les Corts', '19', 'les Corts', 'Male', 1054, 651)\n",
      "(2017, '4', 'Les Corts', '20', 'la Maternitat i Sant Ramon', 'Male', 608, 415)\n",
      "Operation done successfully\n"
     ]
    }
   ],
   "source": [
    "#bysex\n",
    "cur = conn.cursor()\n",
    "\n",
    "cur.execute(\"SELECT *  from barcelona_immigrants_bysex limit 20\")\n",
    "rows = cur.fetchall()\n",
    "for row in rows:\n",
    "   print(row)\n",
    "\n",
    "print (\"Operation done successfully\");"
   ]
  },
  {
   "cell_type": "code",
   "execution_count": 16,
   "metadata": {},
   "outputs": [
    {
     "name": "stdout",
     "output_type": "stream",
     "text": [
      "(1, 'MARIA', 'Female', 'Before 1930', 2085)\n",
      "(2, 'CARMEN', 'Female', 'Before 1930', 1463)\n",
      "(3, 'JOSEFA', 'Female', 'Before 1930', 1032)\n",
      "(4, 'MONTSERRAT', 'Female', 'Before 1930', 879)\n",
      "(5, 'ROSA', 'Female', 'Before 1930', 762)\n",
      "(6, 'TERESA', 'Female', 'Before 1930', 734)\n",
      "(7, 'PILAR', 'Female', 'Before 1930', 694)\n",
      "(8, 'DOLORES', 'Female', 'Before 1930', 679)\n",
      "(9, 'MERCEDES', 'Female', 'Before 1930', 603)\n",
      "(10, 'FRANCISCA', 'Female', 'Before 1930', 596)\n",
      "(11, 'ANTONIA', 'Female', 'Before 1930', 573)\n",
      "(12, 'ISABEL', 'Female', 'Before 1930', 544)\n",
      "(13, 'CONCEPCION', 'Female', 'Before 1930', 522)\n",
      "(14, 'NURIA', 'Female', 'Before 1930', 404)\n",
      "(15, 'ANA', 'Female', 'Before 1930', 350)\n",
      "(16, 'JUANA', 'Female', 'Before 1930', 315)\n",
      "(17, 'M TERESA', 'Female', 'Before 1930', 292)\n",
      "(18, 'ROSARIO', 'Female', 'Before 1930', 266)\n",
      "(19, 'M ROSA', 'Female', 'Before 1930', 245)\n",
      "(20, 'JOSEFINA', 'Female', 'Before 1930', 231)\n",
      "Operation done successfully\n"
     ]
    }
   ],
   "source": [
    "# Most Frequent Names in Barcelona\n",
    "cur = conn.cursor()\n",
    "\n",
    "cur.execute(\"SELECT *  from most_frequent_names limit 20\")\n",
    "rows = cur.fetchall()\n",
    "for row in rows:\n",
    "   print(row)\n",
    "\n",
    "print (\"Operation done successfully\");"
   ]
  },
  {
   "cell_type": "code",
   "execution_count": 17,
   "metadata": {},
   "outputs": [
    {
     "name": "stdout",
     "output_type": "stream",
     "text": [
      "(1, 'LAURA', 'Female', 1996, 237)\n",
      "(2, 'MARIA', 'Female', 1996, 219)\n",
      "(3, 'MARTA', 'Female', 1996, 206)\n",
      "(4, 'ANDREA', 'Female', 1996, 199)\n",
      "(5, 'ANNA', 'Female', 1996, 195)\n",
      "(6, 'PAULA', 'Female', 1996, 186)\n",
      "(7, 'ALBA', 'Female', 1996, 142)\n",
      "(8, 'SARA', 'Female', 1996, 125)\n",
      "(9, 'LAIA', 'Female', 1996, 123)\n",
      "(10, 'CLAUDIA', 'Female', 1996, 122)\n",
      "(11, 'JULIA', 'Female', 1996, 115)\n",
      "(12, 'CARLA', 'Female', 1996, 112)\n",
      "(13, 'MIREIA', 'Female', 1996, 112)\n",
      "(14, 'MARINA', 'Female', 1996, 102)\n",
      "(15, 'CRISTINA', 'Female', 1996, 99)\n",
      "(16, 'CLARA', 'Female', 1996, 89)\n",
      "(17, 'JUDITH', 'Female', 1996, 80)\n",
      "(18, 'ARIADNA', 'Female', 1996, 78)\n",
      "(19, 'NURIA', 'Female', 1996, 72)\n",
      "(20, 'PATRICIA', 'Female', 1996, 71)\n",
      "Operation done successfully\n"
     ]
    }
   ],
   "source": [
    "# Most Frequent Baby Names in Barcelona\n",
    "cur = conn.cursor()\n",
    "\n",
    "cur.execute(\"SELECT *  from most_frequent_baby_names limit 20\")\n",
    "rows = cur.fetchall()\n",
    "for row in rows:\n",
    "   print(row)\n",
    "\n",
    "print (\"Operation done successfully\");"
   ]
  },
  {
   "cell_type": "code",
   "execution_count": 46,
   "metadata": {},
   "outputs": [
    {
     "name": "stdout",
     "output_type": "stream",
     "text": [
      "('PATRICIA',)\n",
      "('MARIA',)\n",
      "('RAQUEL',)\n",
      "('LAIA',)\n",
      "('OLIVIA',)\n",
      "('VALERIA',)\n",
      "('NOA',)\n",
      "('NEREA',)\n",
      "('CLAUDIA',)\n",
      "('ALBA',)\n",
      "('AINA',)\n",
      "('CRISTINA',)\n",
      "('MARTINA',)\n",
      "('NORA',)\n",
      "('BERTA',)\n",
      "('ABRIL',)\n",
      "('PAULA',)\n",
      "('JUDIT',)\n",
      "('ONA',)\n",
      "('SANDRA',)\n",
      "Operation done successfully\n"
     ]
    }
   ],
   "source": [
    "# Most Frequent Baby Names in Barcelona\n",
    "cur = conn.cursor()\n",
    "\n",
    "sql_statement_mfbn   = \"SELECT distinct(mfn.name) from most_frequent_baby_names as mfbn\" + \" \"\n",
    "sql_statement_join   = \"INNER JOIN most_frequent_names as mfn ON mfn.name = mfbn.name\" + \" \"\n",
    "sql_statement_where  = \"WHERE mfn.Gender='Female'\" + \" \"\n",
    "sql_statement_limit = \"LIMIT 20\"\n",
    "\n",
    "\n",
    "cur.execute(sql_statement_mfbn+sql_statement_join+sql_statement_where+sql_statement_gender)\n",
    "rows = cur.fetchall()\n",
    "for row in rows:\n",
    "   print(row)\n",
    "\n",
    "print (\"Operation done successfully\");"
   ]
  },
  {
   "cell_type": "code",
   "execution_count": 61,
   "metadata": {},
   "outputs": [
    {
     "name": "stdout",
     "output_type": "stream",
     "text": [
      "(2017, 1, 'Ciutat Vella', 1, 'el Raval', '0-4', 154, 108, 2017, '1', 'Ciutat Vella', '1', 'el Raval', 'Italy', 360, 2017, '1', 'Ciutat Vella', '1', 'el Raval', 'Male', 3063, 1195)\n",
      "(2017, 1, 'Ciutat Vella', 1, 'el Raval', '0-4', 154, 108, 2017, '1', 'Ciutat Vella', '1', 'el Raval', 'Italy', 360, 2017, '1', 'Ciutat Vella', '2', 'el Barri Gòtic', 'Male', 1499, 427)\n",
      "(2017, 1, 'Ciutat Vella', 1, 'el Raval', '0-4', 154, 108, 2017, '1', 'Ciutat Vella', '1', 'el Raval', 'Italy', 360, 2017, '1', 'Ciutat Vella', '3', 'la Barceloneta', 'Male', 910, 361)\n",
      "(2017, 1, 'Ciutat Vella', 1, 'el Raval', '0-4', 154, 108, 2017, '1', 'Ciutat Vella', '1', 'el Raval', 'Italy', 360, 2017, '1', 'Ciutat Vella', '4', 'Sant Pere, Santa Caterina i la Ribera', 'Male', 1438, 502)\n",
      "(2017, 1, 'Ciutat Vella', 1, 'el Raval', '0-4', 154, 108, 2017, '1', 'Ciutat Vella', '1', 'el Raval', 'Italy', 360, 2016, '1', 'Ciutat Vella', '1', 'el Raval', 'Male', 2819, 1268)\n",
      "(2017, 1, 'Ciutat Vella', 1, 'el Raval', '0-4', 154, 108, 2017, '1', 'Ciutat Vella', '1', 'el Raval', 'Italy', 360, 2016, '1', 'Ciutat Vella', '2', 'el Barri Gòtic', 'Male', 1135, 428)\n",
      "(2017, 1, 'Ciutat Vella', 1, 'el Raval', '0-4', 154, 108, 2017, '1', 'Ciutat Vella', '1', 'el Raval', 'Italy', 360, 2016, '1', 'Ciutat Vella', '3', 'la Barceloneta', 'Male', 785, 352)\n",
      "(2017, 1, 'Ciutat Vella', 1, 'el Raval', '0-4', 154, 108, 2017, '1', 'Ciutat Vella', '1', 'el Raval', 'Italy', 360, 2016, '1', 'Ciutat Vella', '4', 'Sant Pere, Santa Caterina i la Ribera', 'Male', 1210, 498)\n",
      "(2017, 1, 'Ciutat Vella', 1, 'el Raval', '0-4', 154, 108, 2017, '1', 'Ciutat Vella', '1', 'el Raval', 'Italy', 360, 2015, '1', 'Ciutat Vella', '1', 'el Raval', 'Male', 3219, 1541)\n",
      "(2017, 1, 'Ciutat Vella', 1, 'el Raval', '0-4', 154, 108, 2017, '1', 'Ciutat Vella', '1', 'el Raval', 'Italy', 360, 2015, '1', 'Ciutat Vella', '2', 'el Barri Gòtic', 'Male', 1164, 435)\n",
      "(2017, 1, 'Ciutat Vella', 1, 'el Raval', '0-4', 154, 108, 2017, '1', 'Ciutat Vella', '1', 'el Raval', 'Italy', 360, 2015, '1', 'Ciutat Vella', '3', 'la Barceloneta', 'Male', 808, 326)\n",
      "(2017, 1, 'Ciutat Vella', 1, 'el Raval', '0-4', 154, 108, 2017, '1', 'Ciutat Vella', '1', 'el Raval', 'Italy', 360, 2015, '1', 'Ciutat Vella', '4', 'Sant Pere, Santa Caterina i la Ribera', 'Male', 1302, 564)\n",
      "(2017, 1, 'Ciutat Vella', 1, 'el Raval', '0-4', 154, 108, 2017, '1', 'Ciutat Vella', '1', 'el Raval', 'Italy', 360, 2014, '1', 'Ciutat Vella', '1', 'el Raval', 'Male', 2810, 1485)\n",
      "(2017, 1, 'Ciutat Vella', 1, 'el Raval', '0-4', 154, 108, 2017, '1', 'Ciutat Vella', '1', 'el Raval', 'Italy', 360, 2014, '1', 'Ciutat Vella', '2', 'el Barri Gòtic', 'Male', 947, 429)\n",
      "(2017, 1, 'Ciutat Vella', 1, 'el Raval', '0-4', 154, 108, 2017, '1', 'Ciutat Vella', '1', 'el Raval', 'Italy', 360, 2014, '1', 'Ciutat Vella', '3', 'la Barceloneta', 'Male', 704, 363)\n",
      "(2017, 1, 'Ciutat Vella', 1, 'el Raval', '0-4', 154, 108, 2017, '1', 'Ciutat Vella', '1', 'el Raval', 'Italy', 360, 2014, '1', 'Ciutat Vella', '4', 'Sant Pere, Santa Caterina i la Ribera', 'Male', 1175, 520)\n",
      "(2017, 1, 'Ciutat Vella', 1, 'el Raval', '0-4', 154, 108, 2017, '1', 'Ciutat Vella', '1', 'el Raval', 'Italy', 360, 2013, '1', 'Ciutat Vella', '1', 'el Raval', 'Male', 2817, 1485)\n",
      "(2017, 1, 'Ciutat Vella', 1, 'el Raval', '0-4', 154, 108, 2017, '1', 'Ciutat Vella', '1', 'el Raval', 'Italy', 360, 2013, '1', 'Ciutat Vella', '2', 'el Barri Gòtic', 'Male', 921, 429)\n",
      "(2017, 1, 'Ciutat Vella', 1, 'el Raval', '0-4', 154, 108, 2017, '1', 'Ciutat Vella', '1', 'el Raval', 'Italy', 360, 2013, '1', 'Ciutat Vella', '3', 'la Barceloneta', 'Male', 665, 363)\n",
      "(2017, 1, 'Ciutat Vella', 1, 'el Raval', '0-4', 154, 108, 2017, '1', 'Ciutat Vella', '1', 'el Raval', 'Italy', 360, 2013, '1', 'Ciutat Vella', '4', 'Sant Pere, Santa Caterina i la Ribera', 'Male', 943, 520)\n",
      "Operation done successfully\n"
     ]
    }
   ],
   "source": [
    "# Most Frequent Baby Names in Barcelona\n",
    "cur = conn.cursor()\n",
    "\n",
    "sql_statement_byAge   = \"SELECT * from barcelone_immigrants_byage as byAge\" + \" \"\n",
    "sql_statement_join_1  = \"LEFT JOIN barcelona_immigrants_bynationality as byNat ON byAge.district_name = byNat.district_name\" + \" \"\n",
    "sql_statement_join_2  = \"RIGHT JOIN barcelona_immigrants_bysex as bySex ON byNat.district_name=bySex.district_name\" + \" \"\n",
    "sql_statement_where   = \"WHERE byAge.age='0-4' and byNat.nationality='Italy' and bySex.gender='Male'\" + \" \" \n",
    "sql_statement_limit   = \"LIMIT 20\"\n",
    "\n",
    "cur.execute(sql_statement_byAge+sql_statement_join_1+sql_statement_join_2+sql_statement_where+sql_statement_limit)\n",
    "rows = cur.fetchall()\n",
    "for row in rows:\n",
    "   print(row)\n",
    "\n",
    "print (\"Operation done successfully\");"
   ]
  },
  {
   "cell_type": "code",
   "execution_count": null,
   "metadata": {},
   "outputs": [],
   "source": []
  }
 ],
 "metadata": {
  "kernelspec": {
   "display_name": "Python 3",
   "language": "python",
   "name": "python3"
  },
  "language_info": {
   "codemirror_mode": {
    "name": "ipython",
    "version": 3
   },
   "file_extension": ".py",
   "mimetype": "text/x-python",
   "name": "python",
   "nbconvert_exporter": "python",
   "pygments_lexer": "ipython3",
   "version": "3.6.5"
  }
 },
 "nbformat": 4,
 "nbformat_minor": 2
}
